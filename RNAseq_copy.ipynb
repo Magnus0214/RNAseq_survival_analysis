{
 "cells": [
  {
   "cell_type": "code",
   "execution_count": 1,
   "metadata": {
    "vscode": {
     "languageId": "r"
    }
   },
   "outputs": [
    {
     "name": "stderr",
     "output_type": "stream",
     "text": [
      "载入需要的程辑包：S4Vectors\n",
      "\n",
      "载入需要的程辑包：stats4\n",
      "\n"
     ]
    },
    {
     "name": "stderr",
     "output_type": "stream",
     "text": [
      "载入需要的程辑包：BiocGenerics\n",
      "\n",
      "\n",
      "载入程辑包：'BiocGenerics'\n",
      "\n",
      "\n",
      "The following objects are masked from 'package:stats':\n",
      "\n",
      "    IQR, mad, sd, var, xtabs\n",
      "\n",
      "\n",
      "The following objects are masked from 'package:base':\n",
      "\n",
      "    anyDuplicated, aperm, append, as.data.frame, basename, cbind,\n",
      "    colnames, dirname, do.call, duplicated, eval, evalq, Filter, Find,\n",
      "    get, grep, grepl, intersect, is.unsorted, lapply, Map, mapply,\n",
      "    match, mget, order, paste, pmax, pmax.int, pmin, pmin.int,\n",
      "    Position, rank, rbind, Reduce, rownames, sapply, setdiff, sort,\n",
      "    table, tapply, union, unique, unsplit, which.max, which.min\n",
      "\n",
      "\n",
      "\n",
      "载入程辑包：'S4Vectors'\n",
      "\n",
      "\n",
      "The following object is masked from 'package:utils':\n",
      "\n",
      "    findMatches\n",
      "\n",
      "\n",
      "The following objects are masked from 'package:base':\n",
      "\n",
      "    expand.grid, I, unname\n",
      "\n",
      "\n",
      "载入需要的程辑包：IRanges\n",
      "\n",
      "\n",
      "载入程辑包：'IRanges'\n",
      "\n",
      "\n",
      "The following object is masked from 'package:grDevices':\n",
      "\n",
      "    windows\n",
      "\n",
      "\n",
      "载入需要的程辑包：GenomicRanges\n",
      "\n",
      "载入需要的程辑包：GenomeInfoDb\n",
      "\n",
      "载入需要的程辑包：SummarizedExperiment\n",
      "\n",
      "载入需要的程辑包：MatrixGenerics\n",
      "\n",
      "载入需要的程辑包：matrixStats\n",
      "\n",
      "\n",
      "载入程辑包：'MatrixGenerics'\n",
      "\n",
      "\n",
      "The following objects are masked from 'package:matrixStats':\n",
      "\n",
      "    colAlls, colAnyNAs, colAnys, colAvgsPerRowSet, colCollapse,\n",
      "    colCounts, colCummaxs, colCummins, colCumprods, colCumsums,\n",
      "    colDiffs, colIQRDiffs, colIQRs, colLogSumExps, colMadDiffs,\n",
      "    colMads, colMaxs, colMeans2, colMedians, colMins, colOrderStats,\n",
      "    colProds, colQuantiles, colRanges, colRanks, colSdDiffs, colSds,\n",
      "    colSums2, colTabulates, colVarDiffs, colVars, colWeightedMads,\n",
      "    colWeightedMeans, colWeightedMedians, colWeightedSds,\n",
      "    colWeightedVars, rowAlls, rowAnyNAs, rowAnys, rowAvgsPerColSet,\n",
      "    rowCollapse, rowCounts, rowCummaxs, rowCummins, rowCumprods,\n",
      "    rowCumsums, rowDiffs, rowIQRDiffs, rowIQRs, rowLogSumExps,\n",
      "    rowMadDiffs, rowMads, rowMaxs, rowMeans2, rowMedians, rowMins,\n",
      "    rowOrderStats, rowProds, rowQuantiles, rowRanges, rowRanks,\n",
      "    rowSdDiffs, rowSds, rowSums2, rowTabulates, rowVarDiffs, rowVars,\n",
      "    rowWeightedMads, rowWeightedMeans, rowWeightedMedians,\n",
      "    rowWeightedSds, rowWeightedVars\n",
      "\n",
      "\n",
      "载入需要的程辑包：Biobase\n",
      "\n",
      "Welcome to Bioconductor\n",
      "\n",
      "    Vignettes contain introductory material; view with\n",
      "    'browseVignettes()'. To cite Bioconductor, see\n",
      "    'citation(\"Biobase\")', and for packages 'citation(\"pkgname\")'.\n",
      "\n",
      "\n",
      "\n",
      "载入程辑包：'Biobase'\n",
      "\n",
      "\n",
      "The following object is masked from 'package:MatrixGenerics':\n",
      "\n",
      "    rowMedians\n",
      "\n",
      "\n",
      "The following objects are masked from 'package:matrixStats':\n",
      "\n",
      "    anyMissing, rowMedians\n",
      "\n",
      "\n"
     ]
    }
   ],
   "source": [
    "library(DESeq2)\n",
    "library(tidyverse)\n",
    "load(\"exp.rda\")\n",
    "clin.data <- data.frame(colData(exp))\n",
    "head(clin.data)\n"
   ]
  },
  {
   "cell_type": "code",
   "execution_count": null,
   "metadata": {
    "vscode": {
     "languageId": "r"
    }
   },
   "outputs": [],
   "source": [
    "# Select columns\n",
    "surv.data <- clin.data %>% \n",
    "             dplyr::select(barcode,  \n",
    "                           sample_type, \n",
    "                           gender,\n",
    "                           race,\n",
    "                           paper_age_at_initial_pathologic_diagnosis, \n",
    "                           paper_pathologic_stage, \n",
    "                           vital_status, \n",
    "                           days_to_last_follow_up, \n",
    "                           days_to_death)\n",
    "\n",
    "head(surv.data)\n"
   ]
  },
  {
   "cell_type": "code",
   "execution_count": null,
   "metadata": {
    "vscode": {
     "languageId": "r"
    }
   },
   "outputs": [],
   "source": [
    "# Code for time and status\n",
    "surv.data <- surv.data %>%      \n",
    "             mutate(OS.days = case_when(vital_status == \"Alive\" ~ days_to_last_follow_up,\n",
    "                                        vital_status == \"Dead\" ~ days_to_death)) %>%\n",
    "             mutate(Status = recode(vital_status, \"Alive\" = 0, \"Dead\" = 1)) %>% \n",
    "             mutate(Status = as.numeric(Status)) %>% \n",
    "             mutate(OS.month = round(as.numeric(OS.days)/30, 3))\n",
    "\n",
    "head(surv.data)\n"
   ]
  },
  {
   "cell_type": "code",
   "execution_count": null,
   "metadata": {
    "vscode": {
     "languageId": "r"
    }
   },
   "outputs": [],
   "source": [
    "# Filter for tumor samples and survival data\n",
    "surv.data <- surv.data %>% \n",
    "             filter(sample_type == \"Primary Tumor\") %>% \n",
    "             filter(Status %in% c(\"0\", \"1\")) %>% \n",
    "             filter(OS.month != \"NA\") \n",
    "head(surv.data)\n"
   ]
  },
  {
   "cell_type": "code",
   "execution_count": null,
   "metadata": {
    "vscode": {
     "languageId": "r"
    }
   },
   "outputs": [],
   "source": [
    "# Change data types\n",
    "surv.data <- surv.data %>% \n",
    "             mutate(Status = as.numeric(Status)) %>%\n",
    "             mutate(age = paper_age_at_initial_pathologic_diagnosis) %>% \n",
    "             mutate(stage = paper_pathologic_stage) %>% \n",
    "             dplyr::select(barcode, OS.month, Status, gender, race, age, stage)\n",
    "\n",
    "head(surv.data)\n"
   ]
  },
  {
   "cell_type": "code",
   "execution_count": null,
   "metadata": {
    "vscode": {
     "languageId": "r"
    }
   },
   "outputs": [],
   "source": [
    "vsd.df <- read.delim(\"exp_vsd.tsv\", stringsAsFactors = F, check.names = F, row.names = 1)\n",
    "\n",
    "head(vsd.df)\n"
   ]
  },
  {
   "cell_type": "code",
   "execution_count": null,
   "metadata": {
    "vscode": {
     "languageId": "r"
    }
   },
   "outputs": [],
   "source": [
    "# Load DEG\n",
    "deg.df <- read.delim(\"results_DEGs_DESeq2.tsv\")\n",
    "\n",
    "dim(deg.df)\n",
    "head(deg.df)\n"
   ]
  },
  {
   "cell_type": "code",
   "execution_count": null,
   "metadata": {
    "vscode": {
     "languageId": "r"
    }
   },
   "outputs": [],
   "source": [
    "# Subset rows = gene_id, columns = barcode \n",
    "vsd.deg <- vsd.df[deg.df$gene_id, surv.data$barcode]\n",
    "\n",
    "head(vsd.deg)\n"
   ]
  },
  {
   "cell_type": "code",
   "execution_count": null,
   "metadata": {
    "vscode": {
     "languageId": "r"
    }
   },
   "outputs": [],
   "source": [
    "# Transpose rows/columns\n",
    "vsd.deg <- t(vsd.deg) %>% \n",
    "           as.data.frame() \n",
    "\n",
    "head(vsd.deg)\n"
   ]
  },
  {
   "cell_type": "code",
   "execution_count": null,
   "metadata": {
    "vscode": {
     "languageId": "r"
    }
   },
   "outputs": [],
   "source": [
    "# Check rownames match\n",
    "any(rownames(surv.data) != rownames(vsd.deg))\n"
   ]
  },
  {
   "cell_type": "code",
   "execution_count": null,
   "metadata": {
    "vscode": {
     "languageId": "r"
    }
   },
   "outputs": [],
   "source": [
    "# Bind columns\n",
    "cox.data <- cbind(surv.data, vsd.deg) \n",
    "\n",
    "head(cox.data)\n"
   ]
  },
  {
   "cell_type": "code",
   "execution_count": null,
   "metadata": {
    "vscode": {
     "languageId": "r"
    }
   },
   "outputs": [],
   "source": [
    "library(survival)\n",
    "library(RegParallel)\n",
    "\n",
    "res <- RegParallel(\n",
    "  data = cox.data,\n",
    "  formula = 'Surv(OS.month, Status) ~ [*]',  # [*] placeholder for gene\n",
    "  FUN = function(formula, data)  \n",
    "    coxph(formula = formula,\n",
    "          data = data,\n",
    "          ties = 'breslow',\n",
    "          singular.ok = TRUE),\n",
    "  FUNtype = 'coxph',\n",
    "  variables = colnames(cox.data)[8:ncol(cox.data)], # only genes\n",
    "  blocksize = 500,\n",
    "  cores = 23\n",
    ")\n",
    "head(res)\n"
   ]
  },
  {
   "cell_type": "code",
   "execution_count": null,
   "metadata": {
    "vscode": {
     "languageId": "r"
    }
   },
   "outputs": [],
   "source": [
    "res.sig <- res %>% \n",
    "           filter(P < 0.05) %>% \n",
    "           filter(LogRank < 0.05) \n",
    "\n",
    "res.sig <- res.sig %>% \n",
    "           mutate(gene_id = Term) %>% \n",
    "           left_join(deg.df %>% dplyr::select(gene_id, gene_name, log2FoldChange), by= \"gene_id\") \n",
    "\n",
    "head(res.sig)\n"
   ]
  },
  {
   "cell_type": "code",
   "execution_count": null,
   "metadata": {
    "vscode": {
     "languageId": "r"
    }
   },
   "outputs": [],
   "source": [
    "res.sig.up <-  res.sig %>% filter(HR > 1) %>% \n",
    "               filter(log2FoldChange > 0) %>% \n",
    "               arrange(-HR) %>% \n",
    "               head(5)\n",
    "\n",
    "res.sig.up\n"
   ]
  },
  {
   "cell_type": "code",
   "execution_count": null,
   "metadata": {
    "vscode": {
     "languageId": "r"
    }
   },
   "outputs": [],
   "source": [
    "res.sig.down <- res.sig %>% \n",
    "                filter(HR < 1) %>% \n",
    "                filter(log2FoldChange < 0) %>% \n",
    "                arrange(HR) %>% \n",
    "                head(5)\n",
    "\n",
    "res.sig.down\n"
   ]
  },
  {
   "cell_type": "code",
   "execution_count": null,
   "metadata": {
    "vscode": {
     "languageId": "r"
    }
   },
   "outputs": [],
   "source": [
    "head(cox.data)\n"
   ]
  },
  {
   "cell_type": "code",
   "execution_count": null,
   "metadata": {
    "vscode": {
     "languageId": "r"
    }
   },
   "outputs": [],
   "source": [
    "library(survminer)\n",
    "library(ggfortify)\n",
    "# Survival curve for top 5 upregulated genes\n",
    "for (gene in head(res.sig.up$gene_id, 5)) {\n",
    "    surv_object <- survfit(Surv(OS.month, Status) ~ get(gene), data = cox.data)\n",
    "    print(ggsurvplot(surv_object, title = paste(\"Survival Curve for\", gene)))\n",
    "}\n",
    "\n",
    "# Survival curve for top 5 downregulated genes\n",
    "for (gene in head(res.sig.down$gene_id, 5)) {\n",
    "    surv_object <- survfit(Surv(OS.month, Status) ~ get(gene), data = cox.data)\n",
    "    print(ggsurvplot(surv_object, title = paste(\"Survival Curve for\", gene)))\n",
    "}"
   ]
  }
 ],
 "metadata": {
  "kernelspec": {
   "display_name": "R",
   "language": "R",
   "name": "ir"
  },
  "language_info": {
   "codemirror_mode": "r",
   "file_extension": ".r",
   "mimetype": "text/x-r-source",
   "name": "R",
   "pygments_lexer": "r",
   "version": "4.3.3"
  }
 },
 "nbformat": 4,
 "nbformat_minor": 2
}
